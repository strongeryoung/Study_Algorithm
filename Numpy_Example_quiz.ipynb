{
 "cells": [
  {
   "cell_type": "code",
   "execution_count": 6,
   "metadata": {},
   "outputs": [],
   "source": [
    "import numpy as np"
   ]
  },
  {
   "cell_type": "markdown",
   "metadata": {},
   "source": [
    "### 1. 넘파이를 사용하여 다음과 같은 행렬을 만들고, 이 배열에서 값 70을 인덱싱하세요.  (3.1 - 연습문제 1 변형)\n",
    "10 20 30 40 <br>\n",
    "50 60 70 80 <br>"
   ]
  },
  {
   "cell_type": "code",
   "execution_count": 19,
   "metadata": {},
   "outputs": [
    {
     "data": {
      "text/plain": [
       "array([[10, 20, 30, 40],\n",
       "       [50, 60, 70, 80]])"
      ]
     },
     "execution_count": 19,
     "metadata": {},
     "output_type": "execute_result"
    }
   ],
   "source": [
    "# 밑에 코드 작성\n",
    "a = np.array([[10, 20, 30, 40], [50, 60, 70, 80]])\n",
    "a"
   ]
  },
  {
   "cell_type": "code",
   "execution_count": 27,
   "metadata": {},
   "outputs": [
    {
     "data": {
      "text/plain": [
       "70"
      ]
     },
     "execution_count": 27,
     "metadata": {},
     "output_type": "execute_result"
    }
   ],
   "source": [
    "a[1,2]"
   ]
  },
  {
   "cell_type": "markdown",
   "metadata": {},
   "source": [
    "### 2. 다음 배열은 첫번째 행(row)에 학번, 두번째 행에 영어 성적, 세번째 행에 수학 성적을 적은 배열이다. 영어 성적을 기준으로 각 열(column)을 재정렬하라. (연습문제 3.3.2) # 정렬"
   ]
  },
  {
   "cell_type": "code",
   "execution_count": 31,
   "metadata": {},
   "outputs": [
    {
     "name": "stdout",
     "output_type": "stream",
     "text": [
      "[[  1   2   3   4]\n",
      " [ 46  71  99 100]\n",
      " [ 59  81  90 100]]\n"
     ]
    }
   ],
   "source": [
    "v = np.array([[  1,    2,    3,    4],\n",
    "       [ 46,   99,  100,   71],\n",
    "       [ 81,   59,   90,  100]])\n",
    "\n",
    "# 밑에 코드 작성\n",
    "\n",
    "v1= np.sort(v, axis=1)\n",
    "\n",
    "print(v1)\n"
   ]
  },
  {
   "cell_type": "markdown",
   "metadata": {},
   "source": [
    "### 3. 코사인 유사도 함수 구현하기"
   ]
  },
  {
   "cell_type": "code",
   "execution_count": 60,
   "metadata": {},
   "outputs": [],
   "source": [
    "def cos_sim(A,B):\n",
    "    # 밑에 코드 작성\n",
    "    pass"
   ]
  },
  {
   "cell_type": "code",
   "execution_count": 62,
   "metadata": {},
   "outputs": [
    {
     "data": {
      "text/plain": [
       "0.67"
      ]
     },
     "execution_count": 62,
     "metadata": {},
     "output_type": "execute_result"
    }
   ],
   "source": [
    "# Test\n",
    "doc1 = np.array([0,1,1,1])\n",
    "doc2 = np.array([1,0,1,1])\n",
    "result = round(cos_sim(doc1, doc2),2)\n",
    "result"
   ]
  },
  {
   "cell_type": "markdown",
   "metadata": {},
   "source": [
    "- 정답 : 0.67"
   ]
  },
  {
   "cell_type": "markdown",
   "metadata": {},
   "source": [
    "## 4,5번 문제 : 붓꽃 데이터 활용 "
   ]
  },
  {
   "cell_type": "markdown",
   "metadata": {},
   "source": [
    "### 4. 붓꽃들의 변수별 가중치를 통해 전체 붓꽃 가중평균 구하기\n",
    "\n",
    "- 변수별 가중치\n",
    "    - 꽃받침의 길이 : 0.3, 꽃받침의 폭 : 0.2, 꽃잎의 길이 : 0.25, 꽃잎의 폭 : 0.25"
   ]
  },
  {
   "cell_type": "code",
   "execution_count": 53,
   "metadata": {},
   "outputs": [],
   "source": [
    "from sklearn.datasets import load_iris\n",
    "\n",
    "iris = load_iris() # 붓꽃 데이터 로드\n",
    "X = iris.data\n",
    "\n",
    "def weighted_average(data):\n",
    "    \n",
    "    # 밑에 코드 작성\n",
    "    pass\n",
    "\n",
    "result = weighted_average(X)\n",
    "result"
   ]
  },
  {
   "cell_type": "markdown",
   "metadata": {},
   "source": [
    "- 정답 <br>\n",
    "3.6038"
   ]
  },
  {
   "cell_type": "markdown",
   "metadata": {},
   "source": [
    "### 5. 붓꽃들의 각 변수별 기술통계량 구하기 : 평균, 중앙값, 표준편차\n",
    "\n",
    "- 소수점 둘째자리까지\n",
    "- 2차원 리스트의 형태로 반환\n",
    "    - [[변수 1의 평균, 변수 1의 중앙값, 변수 1의 표준편차], ..., [변수 4의 평균, 변수 4의 중앙값, 변수 4의 표준편차]]"
   ]
  },
  {
   "cell_type": "code",
   "execution_count": 52,
   "metadata": {},
   "outputs": [
    {
     "data": {
      "text/plain": [
       "[[5.84, 5.8, 0.83], [3.06, 3.0, 0.43], [3.76, 4.35, 1.76], [1.2, 1.3, 0.76]]"
      ]
     },
     "execution_count": 52,
     "metadata": {},
     "output_type": "execute_result"
    }
   ],
   "source": [
    "def stats(X):\n",
    "    # Transpose\n",
    "    X_t = X.T\n",
    "\n",
    "    # 밑에 코드 작성\n",
    "    pass\n",
    "\n",
    "result = stats(X)\n",
    "result"
   ]
  },
  {
   "cell_type": "markdown",
   "metadata": {},
   "source": [
    "- 정답 <br>\n",
    "[[5.84, 5.8, 0.83], [3.06, 3.0, 0.43], [3.76, 4.35, 1.76], [1.2, 1.3, 0.76]]"
   ]
  },
  {
   "cell_type": "markdown",
   "metadata": {},
   "source": [
    "- numpy 공홈 : https://numpy.org/\n",
    "- numpy ex100 : https://github.com/rougier/numpy-100/blob/master/100_Numpy_exercises.ipynb"
   ]
  }
 ],
 "metadata": {
  "kernelspec": {
   "display_name": "base",
   "language": "python",
   "name": "python3"
  },
  "language_info": {
   "codemirror_mode": {
    "name": "ipython",
    "version": 3
   },
   "file_extension": ".py",
   "mimetype": "text/x-python",
   "name": "python",
   "nbconvert_exporter": "python",
   "pygments_lexer": "ipython3",
   "version": "3.9.13"
  }
 },
 "nbformat": 4,
 "nbformat_minor": 2
}
