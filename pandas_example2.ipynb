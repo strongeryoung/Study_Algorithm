{
 "cells": [
  {
   "cell_type": "markdown",
   "metadata": {},
   "source": [
    "### 4,5번 축구 문제 풀기 싫은 사람을 위한 문제\n",
    "\n",
    "> 대신 3문제\n",
    "\n",
    "![image](https://mblogthumb-phinf.pstatic.net/MjAyMTAyMTJfMTUx/MDAxNjEzMDU4ODk1NDk1.Ee0t2fx4DJw3_8N_1jAcyn6OzRZy7jndc_XcmcV4hSsg.OxhVE2amSG89Vy12HdVwBeQIdGF2M_6q-K1oLiFJRA4g.JPEG.chooddingg/PHOTO_0071.JPG?type=w800)"
   ]
  },
  {
   "cell_type": "code",
   "execution_count": 1,
   "metadata": {},
   "outputs": [],
   "source": [
    "import pandas as pd"
   ]
  },
  {
   "cell_type": "markdown",
   "metadata": {},
   "source": [
    "## 6 ~ 8번 문제\n",
    "\n",
    "- 넷플릭스 데이터 활용\n",
    "- 데이터 설명 : https://www.kaggle.com/datasets/victorsoeiro/netflix-tv-shows-and-movies"
   ]
  },
  {
   "cell_type": "code",
   "execution_count": 2,
   "metadata": {},
   "outputs": [],
   "source": [
    "## 데이터 불러오기\n",
    "characters = pd.read_csv(\"https://raw.githubusercontent.com/minsuk1003/Python_DA_Study/main/Week%202/archive/credits.csv\")\n",
    "contents = pd.read_csv(\"https://raw.githubusercontent.com/minsuk1003/Python_DA_Study/main/Week%202/archive/titles.csv\")"
   ]
  },
  {
   "cell_type": "markdown",
   "metadata": {},
   "source": [
    "### 6. characters 데이터프레임에 컨텐츠의 title 컬럼을 추가하세요.\n",
    "\n",
    "> HINT : characters 데이터프레임의 id 컬럼을 참조해야 함"
   ]
  },
  {
   "cell_type": "code",
   "execution_count": 7,
   "metadata": {},
   "outputs": [
    {
     "name": "stdout",
     "output_type": "stream",
     "text": [
      "       person_id         id                name                character  \\\n",
      "0           3748    tm84618      Robert De Niro            Travis Bickle   \n",
      "1          14658    tm84618        Jodie Foster            Iris Steensma   \n",
      "2           7064    tm84618       Albert Brooks                      Tom   \n",
      "3           3739    tm84618       Harvey Keitel  Matthew 'Sport' Higgins   \n",
      "4          48933    tm84618     Cybill Shepherd                    Betsy   \n",
      "...          ...        ...                 ...                      ...   \n",
      "77796     736339  tm1059008    Adelaida Buscato                María Paz   \n",
      "77797     399499  tm1059008  Luz Stella Luengas             Karen Bayona   \n",
      "77798     373198  tm1059008         Inés Prieto                    Fanny   \n",
      "77799     378132  tm1059008        Isabel Gaona                   Cacica   \n",
      "77800    1950416  tm1059008      Julian Gaviria                      NaN   \n",
      "\n",
      "           role  \n",
      "0         ACTOR  \n",
      "1         ACTOR  \n",
      "2         ACTOR  \n",
      "3         ACTOR  \n",
      "4         ACTOR  \n",
      "...         ...  \n",
      "77796     ACTOR  \n",
      "77797     ACTOR  \n",
      "77798     ACTOR  \n",
      "77799     ACTOR  \n",
      "77800  DIRECTOR  \n",
      "\n",
      "[77801 rows x 5 columns]\n"
     ]
    }
   ],
   "source": [
    "## 밑에 코드 작성\n",
    "print(characters) # 한 배우가 한 행"
   ]
  },
  {
   "cell_type": "code",
   "execution_count": 9,
   "metadata": {},
   "outputs": [
    {
     "name": "stdout",
     "output_type": "stream",
     "text": [
      "             id                                      title   type  \\\n",
      "0      ts300399        Five Came Back: The Reference Films   SHOW   \n",
      "1       tm84618                                Taxi Driver  MOVIE   \n",
      "2      tm154986                                Deliverance  MOVIE   \n",
      "3      tm127384            Monty Python and the Holy Grail  MOVIE   \n",
      "4      tm120801                            The Dirty Dozen  MOVIE   \n",
      "...         ...                                        ...    ...   \n",
      "5845  tm1014599                                  Fine Wine  MOVIE   \n",
      "5846   tm898842                                C/O Kaadhal  MOVIE   \n",
      "5847  tm1059008                                    Lokillo  MOVIE   \n",
      "5848  tm1035612  Dad Stop Embarrassing Me - The Afterparty  MOVIE   \n",
      "5849   ts271048         Mighty Little Bheem: Kite Festival   SHOW   \n",
      "\n",
      "                                            description  release_year  \\\n",
      "0     This collection includes 12 World War II-era p...          1945   \n",
      "1     A mentally unstable Vietnam War veteran works ...          1976   \n",
      "2     Intent on seeing the Cahulawassee River before...          1972   \n",
      "3     King Arthur, accompanied by his squire, recrui...          1975   \n",
      "4     12 American military prisoners in World War II...          1967   \n",
      "...                                                 ...           ...   \n",
      "5845  A beautiful love story that can happen between...          2021   \n",
      "5846  A heart warming film that explores the concept...          2021   \n",
      "5847  A controversial TV host and comedian who has b...          2021   \n",
      "5848  Jamie Foxx, David Alan Grier and more from the...          2021   \n",
      "5849  With winter behind them, Bheem and his townspe...          2021   \n",
      "\n",
      "     age_certification  runtime                                       genres  \\\n",
      "0                TV-MA       51                            ['documentation']   \n",
      "1                    R      114                           ['drama', 'crime']   \n",
      "2                    R      109  ['drama', 'action', 'thriller', 'european']   \n",
      "3                   PG       91              ['fantasy', 'action', 'comedy']   \n",
      "4                  NaN      150                            ['war', 'action']   \n",
      "...                ...      ...                                          ...   \n",
      "5845               NaN      100                         ['romance', 'drama']   \n",
      "5846               NaN      134                                    ['drama']   \n",
      "5847               NaN       90                                   ['comedy']   \n",
      "5848             PG-13       37                                           []   \n",
      "5849               NaN        7            ['family', 'animation', 'comedy']   \n",
      "\n",
      "     production_countries  seasons     imdb_id  imdb_score  imdb_votes  \\\n",
      "0                  ['US']      1.0         NaN         NaN         NaN   \n",
      "1                  ['US']      NaN   tt0075314         8.2    808582.0   \n",
      "2                  ['US']      NaN   tt0068473         7.7    107673.0   \n",
      "3                  ['GB']      NaN   tt0071853         8.2    534486.0   \n",
      "4            ['GB', 'US']      NaN   tt0061578         7.7     72662.0   \n",
      "...                   ...      ...         ...         ...         ...   \n",
      "5845               ['NG']      NaN  tt13857480         6.8        45.0   \n",
      "5846                   []      NaN  tt11803618         7.7       348.0   \n",
      "5847               ['CO']      NaN  tt14585902         3.8        68.0   \n",
      "5848               ['US']      NaN         NaN         NaN         NaN   \n",
      "5849                   []      1.0  tt13711094         7.8        18.0   \n",
      "\n",
      "      tmdb_popularity  tmdb_score  \n",
      "0               0.600         NaN  \n",
      "1              40.965       8.179  \n",
      "2              10.010       7.300  \n",
      "3              15.461       7.811  \n",
      "4              20.398       7.600  \n",
      "...               ...         ...  \n",
      "5845            1.466         NaN  \n",
      "5846              NaN         NaN  \n",
      "5847           26.005       6.300  \n",
      "5848            1.296      10.000  \n",
      "5849            2.289      10.000  \n",
      "\n",
      "[5850 rows x 15 columns]\n"
     ]
    }
   ],
   "source": [
    "print(contents) # 넷플릭스 컨텐츠가 한 행"
   ]
  },
  {
   "cell_type": "code",
   "execution_count": 15,
   "metadata": {},
   "outputs": [
    {
     "data": {
      "text/html": [
       "<div>\n",
       "<style scoped>\n",
       "    .dataframe tbody tr th:only-of-type {\n",
       "        vertical-align: middle;\n",
       "    }\n",
       "\n",
       "    .dataframe tbody tr th {\n",
       "        vertical-align: top;\n",
       "    }\n",
       "\n",
       "    .dataframe thead th {\n",
       "        text-align: right;\n",
       "    }\n",
       "</style>\n",
       "<table border=\"1\" class=\"dataframe\">\n",
       "  <thead>\n",
       "    <tr style=\"text-align: right;\">\n",
       "      <th></th>\n",
       "      <th>person_id</th>\n",
       "      <th>id</th>\n",
       "      <th>name</th>\n",
       "      <th>character</th>\n",
       "      <th>role</th>\n",
       "      <th>title</th>\n",
       "    </tr>\n",
       "  </thead>\n",
       "  <tbody>\n",
       "    <tr>\n",
       "      <th>0</th>\n",
       "      <td>3748</td>\n",
       "      <td>tm84618</td>\n",
       "      <td>Robert De Niro</td>\n",
       "      <td>Travis Bickle</td>\n",
       "      <td>ACTOR</td>\n",
       "      <td>Taxi Driver</td>\n",
       "    </tr>\n",
       "    <tr>\n",
       "      <th>1</th>\n",
       "      <td>14658</td>\n",
       "      <td>tm84618</td>\n",
       "      <td>Jodie Foster</td>\n",
       "      <td>Iris Steensma</td>\n",
       "      <td>ACTOR</td>\n",
       "      <td>Taxi Driver</td>\n",
       "    </tr>\n",
       "    <tr>\n",
       "      <th>2</th>\n",
       "      <td>7064</td>\n",
       "      <td>tm84618</td>\n",
       "      <td>Albert Brooks</td>\n",
       "      <td>Tom</td>\n",
       "      <td>ACTOR</td>\n",
       "      <td>Taxi Driver</td>\n",
       "    </tr>\n",
       "    <tr>\n",
       "      <th>3</th>\n",
       "      <td>3739</td>\n",
       "      <td>tm84618</td>\n",
       "      <td>Harvey Keitel</td>\n",
       "      <td>Matthew 'Sport' Higgins</td>\n",
       "      <td>ACTOR</td>\n",
       "      <td>Taxi Driver</td>\n",
       "    </tr>\n",
       "    <tr>\n",
       "      <th>4</th>\n",
       "      <td>48933</td>\n",
       "      <td>tm84618</td>\n",
       "      <td>Cybill Shepherd</td>\n",
       "      <td>Betsy</td>\n",
       "      <td>ACTOR</td>\n",
       "      <td>Taxi Driver</td>\n",
       "    </tr>\n",
       "    <tr>\n",
       "      <th>...</th>\n",
       "      <td>...</td>\n",
       "      <td>...</td>\n",
       "      <td>...</td>\n",
       "      <td>...</td>\n",
       "      <td>...</td>\n",
       "      <td>...</td>\n",
       "    </tr>\n",
       "    <tr>\n",
       "      <th>77796</th>\n",
       "      <td>736339</td>\n",
       "      <td>tm1059008</td>\n",
       "      <td>Adelaida Buscato</td>\n",
       "      <td>María Paz</td>\n",
       "      <td>ACTOR</td>\n",
       "      <td>Lokillo</td>\n",
       "    </tr>\n",
       "    <tr>\n",
       "      <th>77797</th>\n",
       "      <td>399499</td>\n",
       "      <td>tm1059008</td>\n",
       "      <td>Luz Stella Luengas</td>\n",
       "      <td>Karen Bayona</td>\n",
       "      <td>ACTOR</td>\n",
       "      <td>Lokillo</td>\n",
       "    </tr>\n",
       "    <tr>\n",
       "      <th>77798</th>\n",
       "      <td>373198</td>\n",
       "      <td>tm1059008</td>\n",
       "      <td>Inés Prieto</td>\n",
       "      <td>Fanny</td>\n",
       "      <td>ACTOR</td>\n",
       "      <td>Lokillo</td>\n",
       "    </tr>\n",
       "    <tr>\n",
       "      <th>77799</th>\n",
       "      <td>378132</td>\n",
       "      <td>tm1059008</td>\n",
       "      <td>Isabel Gaona</td>\n",
       "      <td>Cacica</td>\n",
       "      <td>ACTOR</td>\n",
       "      <td>Lokillo</td>\n",
       "    </tr>\n",
       "    <tr>\n",
       "      <th>77800</th>\n",
       "      <td>1950416</td>\n",
       "      <td>tm1059008</td>\n",
       "      <td>Julian Gaviria</td>\n",
       "      <td>NaN</td>\n",
       "      <td>DIRECTOR</td>\n",
       "      <td>Lokillo</td>\n",
       "    </tr>\n",
       "  </tbody>\n",
       "</table>\n",
       "<p>77801 rows × 6 columns</p>\n",
       "</div>"
      ],
      "text/plain": [
       "       person_id         id                name                character  \\\n",
       "0           3748    tm84618      Robert De Niro            Travis Bickle   \n",
       "1          14658    tm84618        Jodie Foster            Iris Steensma   \n",
       "2           7064    tm84618       Albert Brooks                      Tom   \n",
       "3           3739    tm84618       Harvey Keitel  Matthew 'Sport' Higgins   \n",
       "4          48933    tm84618     Cybill Shepherd                    Betsy   \n",
       "...          ...        ...                 ...                      ...   \n",
       "77796     736339  tm1059008    Adelaida Buscato                María Paz   \n",
       "77797     399499  tm1059008  Luz Stella Luengas             Karen Bayona   \n",
       "77798     373198  tm1059008         Inés Prieto                    Fanny   \n",
       "77799     378132  tm1059008        Isabel Gaona                   Cacica   \n",
       "77800    1950416  tm1059008      Julian Gaviria                      NaN   \n",
       "\n",
       "           role        title  \n",
       "0         ACTOR  Taxi Driver  \n",
       "1         ACTOR  Taxi Driver  \n",
       "2         ACTOR  Taxi Driver  \n",
       "3         ACTOR  Taxi Driver  \n",
       "4         ACTOR  Taxi Driver  \n",
       "...         ...          ...  \n",
       "77796     ACTOR      Lokillo  \n",
       "77797     ACTOR      Lokillo  \n",
       "77798     ACTOR      Lokillo  \n",
       "77799     ACTOR      Lokillo  \n",
       "77800  DIRECTOR      Lokillo  \n",
       "\n",
       "[77801 rows x 6 columns]"
      ]
     },
     "execution_count": 15,
     "metadata": {},
     "output_type": "execute_result"
    }
   ],
   "source": [
    "pd.merge(characters, contents[[\"id\", \"title\"]], how=\"inner\", on=\"id\")"
   ]
  },
  {
   "cell_type": "markdown",
   "metadata": {},
   "source": [
    "### 7. 2010년 이후의 한국 컨텐츠만 출력하세요.\n",
    "\n",
    "- production_countries : \"KR\""
   ]
  },
  {
   "cell_type": "code",
   "execution_count": null,
   "metadata": {},
   "outputs": [],
   "source": [
    "## 밑에 코드 작성\n"
   ]
  },
  {
   "cell_type": "markdown",
   "metadata": {},
   "source": [
    "### 8. 오징어게임에 출연한 배우를 출력하세요.\n",
    "\n",
    "- title : \"Squid Game\""
   ]
  },
  {
   "cell_type": "code",
   "execution_count": 41,
   "metadata": {},
   "outputs": [],
   "source": [
    "## 밑에 코드 작성\n"
   ]
  }
 ],
 "metadata": {
  "kernelspec": {
   "display_name": "base",
   "language": "python",
   "name": "python3"
  },
  "language_info": {
   "codemirror_mode": {
    "name": "ipython",
    "version": 3
   },
   "file_extension": ".py",
   "mimetype": "text/x-python",
   "name": "python",
   "nbconvert_exporter": "python",
   "pygments_lexer": "ipython3",
   "version": "3.9.13"
  }
 },
 "nbformat": 4,
 "nbformat_minor": 2
}
