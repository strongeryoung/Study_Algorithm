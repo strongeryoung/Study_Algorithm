{
 "cells": [
  {
   "cell_type": "markdown",
   "metadata": {},
   "source": [
    "### 4,5번 축구 문제 풀기 싫은 사람을 위한 문제\n",
    "\n",
    "> 대신 3문제\n",
    "\n",
    "![image](https://mblogthumb-phinf.pstatic.net/MjAyMTAyMTJfMTUx/MDAxNjEzMDU4ODk1NDk1.Ee0t2fx4DJw3_8N_1jAcyn6OzRZy7jndc_XcmcV4hSsg.OxhVE2amSG89Vy12HdVwBeQIdGF2M_6q-K1oLiFJRA4g.JPEG.chooddingg/PHOTO_0071.JPG?type=w800)"
   ]
  },
  {
   "cell_type": "code",
   "execution_count": 1,
   "metadata": {},
   "outputs": [],
   "source": [
    "import pandas as pd"
   ]
  },
  {
   "cell_type": "markdown",
   "metadata": {},
   "source": [
    "## 6 ~ 8번 문제\n",
    "\n",
    "- 넷플릭스 데이터 활용\n",
    "- 데이터 설명 : https://www.kaggle.com/datasets/victorsoeiro/netflix-tv-shows-and-movies"
   ]
  },
  {
   "cell_type": "code",
   "execution_count": 5,
   "metadata": {},
   "outputs": [],
   "source": [
    "## 데이터 불러오기\n",
    "characters = pd.read_csv(\"https://raw.githubusercontent.com/minsuk1003/Python_DA_Study/main/Week%202/archive/credits.csv\")\n",
    "contents = pd.read_csv(\"https://raw.githubusercontent.com/minsuk1003/Python_DA_Study/main/Week%202/archive/titles.csv\")"
   ]
  },
  {
   "cell_type": "markdown",
   "metadata": {},
   "source": [
    "### 6. characters 데이터프레임에 컨텐츠의 title 컬럼을 추가하세요.\n",
    "\n",
    "> HINT : characters 데이터프레임의 id 컬럼을 참조해야 함"
   ]
  },
  {
   "cell_type": "code",
   "execution_count": 43,
   "metadata": {},
   "outputs": [],
   "source": [
    "## 밑에 코드 작성\n"
   ]
  },
  {
   "cell_type": "markdown",
   "metadata": {},
   "source": [
    "### 7. 2010년 이후의 한국 컨텐츠만 출력하세요.\n",
    "\n",
    "- production_countries : \"KR\""
   ]
  },
  {
   "cell_type": "code",
   "execution_count": null,
   "metadata": {},
   "outputs": [],
   "source": [
    "## 밑에 코드 작성\n"
   ]
  },
  {
   "cell_type": "markdown",
   "metadata": {},
   "source": [
    "### 8. 오징어게임에 출연한 배우를 출력하세요.\n",
    "\n",
    "- title : \"Squid Game\""
   ]
  },
  {
   "cell_type": "code",
   "execution_count": 41,
   "metadata": {},
   "outputs": [],
   "source": [
    "## 밑에 코드 작성\n"
   ]
  }
 ],
 "metadata": {
  "kernelspec": {
   "display_name": "base",
   "language": "python",
   "name": "python3"
  },
  "language_info": {
   "codemirror_mode": {
    "name": "ipython",
    "version": 3
   },
   "file_extension": ".py",
   "mimetype": "text/x-python",
   "name": "python",
   "nbconvert_exporter": "python",
   "pygments_lexer": "ipython3",
   "version": "3.10.9"
  }
 },
 "nbformat": 4,
 "nbformat_minor": 2
}
